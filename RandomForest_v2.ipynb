{
 "cells": [
  {
   "cell_type": "markdown",
   "metadata": {},
   "source": [
    "# Preprocesamiento"
   ]
  },
  {
   "cell_type": "markdown",
   "metadata": {},
   "source": [
    "Se importan las librerías necesarias"
   ]
  },
  {
   "cell_type": "code",
   "execution_count": null,
   "metadata": {},
   "outputs": [],
   "source": [
    "import pandas as pd\n",
    "import numpy as np\n",
    "from sklearn import metrics\n",
    "from sklearn.ensemble import RandomForestClassifier\n",
    "from sklearn.preprocessing import LabelEncoder\n",
    "from sklearn.model_selection import train_test_split\n",
    "from sklearn.metrics import r2_score"
   ]
  },
  {
   "cell_type": "markdown",
   "metadata": {},
   "source": [
    "Se carga el csv en un dataframe"
   ]
  },
  {
   "cell_type": "code",
   "execution_count": null,
   "metadata": {},
   "outputs": [],
   "source": [
    "data = pd.read_csv('../bd/data2.csv', dtype={'rut': str})\n",
    "data"
   ]
  },
  {
   "cell_type": "markdown",
   "metadata": {},
   "source": [
    "Se crean los codificadores de los datos categóricos"
   ]
  },
  {
   "cell_type": "code",
   "execution_count": null,
   "metadata": {},
   "outputs": [],
   "source": [
    "le_rangoEdad = LabelEncoder()\n",
    "le_sexo = LabelEncoder()\n",
    "le_plan = LabelEncoder()\n",
    "le_centro = LabelEncoder()\n",
    "le_tipo = LabelEncoder()"
   ]
  },
  {
   "cell_type": "markdown",
   "metadata": {},
   "source": [
    "Se codifican las variables"
   ]
  },
  {
   "cell_type": "code",
   "execution_count": null,
   "metadata": {},
   "outputs": [],
   "source": [
    "rangoEdad_encoded = le_rangoEdad.fit_transform(data['rangoEdad'])\n",
    "sexo_encoded = le_sexo.fit_transform(data['sexo'])\n",
    "plan_encoded = le_plan.fit_transform(data['plan'])\n",
    "centro_encoded = le_centro.fit_transform(data['centroFav'])\n",
    "tipo_encoded = le_tipo.fit_transform(data['tipoFav'])\n",
    "\n",
    "encoded_df = data[['visitas2018','visitas2019','visitas2020','visitas2021','visitas2022']]\n",
    "encoded_df.insert(0, column='rut', value=data[['rut']])\n",
    "encoded_df.insert(1, column='sexo_encoded', value=sexo_encoded)\n",
    "encoded_df.insert(2, column='rangoEdad_encoded', value=rangoEdad_encoded)\n",
    "encoded_df.insert(3, column='plan_encoded', value=plan_encoded)\n",
    "encoded_df.insert(4, column='centro_encoded', value=centro_encoded)\n",
    "encoded_df.insert(5, column='tipo_encoded', value=tipo_encoded)\n",
    "\n",
    "encoded_df"
   ]
  },
  {
   "cell_type": "markdown",
   "metadata": {},
   "source": [
    "Se separan los datos en un set de entrenamiento (80%) y un set de pruebas (20%)"
   ]
  },
  {
   "cell_type": "code",
   "execution_count": null,
   "metadata": {},
   "outputs": [],
   "source": [
    "features = encoded_df.drop(['visitas2022'], axis=1)\n",
    "labels = encoded_df[['visitas2022']]\n",
    "X_train, X_test, y_train, y_test = train_test_split(features, labels, test_size=0.2)"
   ]
  },
  {
   "cell_type": "markdown",
   "metadata": {},
   "source": [
    "Se elimina el rut de los sets de entrenamiento y prueba ya que no serán utilizados en el modelo"
   ]
  },
  {
   "cell_type": "code",
   "execution_count": null,
   "metadata": {},
   "outputs": [],
   "source": [
    "X_train.drop(['rut'], axis=1,inplace=True)\n",
    "X_test.drop(['rut'], axis=1,inplace=True)"
   ]
  },
  {
   "cell_type": "markdown",
   "metadata": {},
   "source": [
    "# Random Forest"
   ]
  },
  {
   "cell_type": "markdown",
   "metadata": {},
   "source": [
    "Se crea el modelo de RandomForest"
   ]
  },
  {
   "cell_type": "code",
   "execution_count": null,
   "metadata": {},
   "outputs": [],
   "source": [
    "model = RandomForestClassifier()\n",
    "model.fit(X_train,y_train.values.ravel())"
   ]
  },
  {
   "cell_type": "markdown",
   "metadata": {},
   "source": [
    "Se crean las predicciones"
   ]
  },
  {
   "cell_type": "code",
   "execution_count": null,
   "metadata": {},
   "outputs": [],
   "source": [
    "y_pred = model.predict(X_test)"
   ]
  },
  {
   "cell_type": "markdown",
   "metadata": {},
   "source": [
    "Se muestran los indicadores del modelo"
   ]
  },
  {
   "cell_type": "code",
   "execution_count": null,
   "metadata": {},
   "outputs": [],
   "source": [
    "MSE = np.sqrt(metrics.mean_squared_error(y_test,y_pred))\n",
    "R2 = r2_score(y_test,y_pred)\n",
    "Score = model.score(X_test,y_test)\n",
    "print('MSE: ',MSE)\n",
    "print('Score: ',Score)\n",
    "print('R2_Score: ',R2)"
   ]
  },
  {
   "cell_type": "markdown",
   "metadata": {},
   "source": [
    "# Postprocesamiento"
   ]
  },
  {
   "cell_type": "markdown",
   "metadata": {},
   "source": [
    "Se agrega la predicción a un dataframe para facilitar su visualización"
   ]
  },
  {
   "cell_type": "code",
   "execution_count": null,
   "metadata": {},
   "outputs": [],
   "source": [
    "pred_data = pd.DataFrame(y_pred, columns=['pred_visitas2022'])\n",
    "pred_data"
   ]
  },
  {
   "cell_type": "markdown",
   "metadata": {},
   "source": [
    "Se unen los datos para entender de mejor manera los datos reales vs la predicción"
   ]
  },
  {
   "cell_type": "code",
   "execution_count": null,
   "metadata": {},
   "outputs": [],
   "source": [
    "pred_data = pd.DataFrame(y_pred, columns=['pred_visitas2022'])\n",
    "final_data = X_test\n",
    "\n",
    "final_data = final_data.assign(real_visitas2022=y_test)\n",
    "final_data.reset_index(drop=True,inplace=True)\n",
    "\n",
    "inverse_sexo = le_sexo.inverse_transform(final_data['sexo_encoded'])\n",
    "final_data.insert(0, column='sexo', value=inverse_sexo)\n",
    "final_data.drop('sexo_encoded',axis=1,inplace=True)\n",
    "\n",
    "inverse_rangoEdad = le_rangoEdad.inverse_transform(final_data['rangoEdad_encoded'])\n",
    "final_data.insert(1, column='rangoEdad', value=inverse_rangoEdad)\n",
    "final_data.drop('rangoEdad_encoded',axis=1,inplace=True)\n",
    "\n",
    "inverse_plan = le_plan.inverse_transform(final_data['plan_encoded'])\n",
    "final_data.insert(2, column='plan', value=inverse_plan)\n",
    "final_data.drop('plan_encoded',axis=1,inplace=True)\n",
    "\n",
    "inverse_centro = le_centro.inverse_transform(final_data['centro_encoded'])\n",
    "final_data.insert(3, column='centro', value=inverse_centro)\n",
    "final_data.drop('centro_encoded',axis=1,inplace=True)\n",
    "\n",
    "inverse_tipo = le_tipo.inverse_transform(final_data['tipo_encoded'])\n",
    "final_data.insert(4, column='tipo', value=inverse_tipo)\n",
    "final_data.drop('tipo_encoded',axis=1,inplace=True) \n",
    "\n",
    "final_df = pd.concat([final_data, pred_data],axis=1)\n",
    "final_df.dropna(inplace=True)\n",
    "final_df.reset_index()\n",
    "final_df[['visitas2018','visitas2019','visitas2020','visitas2021','real_visitas2022','pred_visitas2022']] = final_df[['visitas2018','visitas2019','visitas2020','visitas2021','real_visitas2022','pred_visitas2022']].astype(int)\n",
    "final_df"
   ]
  },
  {
   "cell_type": "markdown",
   "metadata": {},
   "source": [
    "Se muestra la suma y diferencia entre visitas reales del 2022 vs predecidas"
   ]
  },
  {
   "cell_type": "code",
   "execution_count": null,
   "metadata": {},
   "outputs": [],
   "source": [
    "real = int(final_df['real_visitas2022'].sum())\n",
    "pred = int(final_df['pred_visitas2022'].sum())\n",
    "total = real + pred\n",
    "diff = real - pred\n",
    "\n",
    "aciertos = pd.DataFrame()\n",
    "aciertos['aciertos'] = np.where((final_df['real_visitas2022'] == final_df['pred_visitas2022']),1,0)\n",
    "\n",
    "print('Suma de las visitas reales del 2022: ', real)\n",
    "print('Suma de las visitas predichas del 2022: ', pred)\n",
    "print('Diferencia entre visitas reales vs predichas: ', diff)\n",
    "print('Total de las visitas 2022: ', total)\n",
    "#Nota: Que el total de visitas sea menor al total de filas de la base de datos está bien, ya que no está sumando los 0s.\n",
    "print('-------------')\n",
    "print('Aciertos de la predicción: ', aciertos['aciertos'].sum())\n",
    "print('Fallos de la predicción: ', (aciertos['aciertos']==0).sum())\n",
    "print('Porcentaje de aciertos: ', ((aciertos['aciertos'].sum())*100)/len(final_df))\n",
    "print('Porcentaje de fallos: ', (((aciertos['aciertos']==0).sum())*100)/len(final_df))"
   ]
  },
  {
   "cell_type": "markdown",
   "metadata": {},
   "source": [
    "Se crea una visualización de diferencia entre las visitas reales del 2022 vs las predecidas"
   ]
  },
  {
   "cell_type": "code",
   "execution_count": null,
   "metadata": {},
   "outputs": [],
   "source": [
    "final_df['diff_visitas2022'] = final_df['real_visitas2022'] - final_df['pred_visitas2022']\n",
    "dif = final_df[final_df.diff_visitas2022 >= 1]\n",
    "dif.head(50)"
   ]
  }
 ],
 "metadata": {
  "kernelspec": {
   "display_name": "Python 3",
   "language": "python",
   "name": "python3"
  },
  "language_info": {
   "codemirror_mode": {
    "name": "ipython",
    "version": 3
   },
   "file_extension": ".py",
   "mimetype": "text/x-python",
   "name": "python",
   "nbconvert_exporter": "python",
   "pygments_lexer": "ipython3",
   "version": "3.10.11"
  },
  "orig_nbformat": 4
 },
 "nbformat": 4,
 "nbformat_minor": 2
}
